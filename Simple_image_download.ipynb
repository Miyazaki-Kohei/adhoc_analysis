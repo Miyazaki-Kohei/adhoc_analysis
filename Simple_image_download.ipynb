{
  "nbformat": 4,
  "nbformat_minor": 0,
  "metadata": {
    "colab": {
      "provenance": [],
      "authorship_tag": "ABX9TyNv+6tji+J6hj/7uEVosZVT",
      "include_colab_link": true
    },
    "kernelspec": {
      "name": "python3",
      "display_name": "Python 3"
    },
    "language_info": {
      "name": "python"
    }
  },
  "cells": [
    {
      "cell_type": "markdown",
      "metadata": {
        "id": "view-in-github",
        "colab_type": "text"
      },
      "source": [
        "<a href=\"https://colab.research.google.com/github/Miyazaki-Kohei/adhoc_analysis/blob/main/Simple_image_download.ipynb\" target=\"_parent\"><img src=\"https://colab.research.google.com/assets/colab-badge.svg\" alt=\"Open In Colab\"/></a>"
      ]
    },
    {
      "cell_type": "markdown",
      "source": [
        "## 画像をDLするライブラリ"
      ],
      "metadata": {
        "id": "FDiXqT9YW4ZR"
      }
    },
    {
      "cell_type": "code",
      "source": [
        "!pip install simple_image_download"
      ],
      "metadata": {
        "colab": {
          "base_uri": "https://localhost:8080/"
        },
        "id": "F3OKK9r5WMSL",
        "outputId": "eaf61241-2e4a-47b5-93f4-e69a94459e2c"
      },
      "execution_count": 8,
      "outputs": [
        {
          "output_type": "stream",
          "name": "stdout",
          "text": [
            "Collecting simple_image_download\n",
            "  Downloading simple_image_download-0.5-py3-none-any.whl (7.0 kB)\n",
            "Requirement already satisfied: requests in /usr/local/lib/python3.10/dist-packages (from simple_image_download) (2.31.0)\n",
            "INFO: pip is looking at multiple versions of simple-image-download to determine which version is compatible with other requirements. This could take a while.\n",
            "  Downloading simple_image_download-0.4-py3-none-any.whl (4.9 kB)\n",
            "  Downloading simple_image_download-0.2-py3-none-any.whl (3.8 kB)\n",
            "Requirement already satisfied: charset-normalizer<4,>=2 in /usr/local/lib/python3.10/dist-packages (from requests->simple_image_download) (3.3.2)\n",
            "Requirement already satisfied: idna<4,>=2.5 in /usr/local/lib/python3.10/dist-packages (from requests->simple_image_download) (3.7)\n",
            "Requirement already satisfied: urllib3<3,>=1.21.1 in /usr/local/lib/python3.10/dist-packages (from requests->simple_image_download) (2.0.7)\n",
            "Requirement already satisfied: certifi>=2017.4.17 in /usr/local/lib/python3.10/dist-packages (from requests->simple_image_download) (2024.7.4)\n",
            "Installing collected packages: simple_image_download\n",
            "Successfully installed simple_image_download-0.2\n"
          ]
        }
      ]
    },
    {
      "cell_type": "code",
      "source": [
        "# Importing the necessary module and function\n",
        "from simple_image_download import simple_image_download as simp\n",
        "\n",
        "# Creating a response object\n",
        "response = simp.simple_image_download\n",
        "\n",
        "## Keyword\n",
        "keyword = \"Dog\"\n",
        "\n",
        "# Downloading images\n",
        "try:\n",
        "    response().download(keyword, 20)\n",
        "    print(\"Images downloaded successfully.\")\n",
        "except Exception as e:\n",
        "    print(\"An error occurred:\", e)\n"
      ],
      "metadata": {
        "colab": {
          "base_uri": "https://localhost:8080/"
        },
        "id": "Z4j3VOqhVaAh",
        "outputId": "21eba109-ec74-499d-86f4-81af30fd10c8"
      },
      "execution_count": 9,
      "outputs": [
        {
          "output_type": "stream",
          "name": "stdout",
          "text": [
            "HTTPSConnectionPool(host='www.nylabone.com', port=443): Max retries exceeded with url: /-/media/project/oneweb/nylabone/images/dog101/10-intelligent-dog-breeds/golden-retriever-tongue-out.jpg (Caused by SSLError(SSLCertVerificationError(1, '[SSL: CERTIFICATE_VERIFY_FAILED] certificate verify failed: unable to get local issuer certificate (_ssl.c:1007)')))\n",
            "HTTPSConnectionPool(host='www.nylabone.com', port=443): Max retries exceeded with url: /-/media/project/oneweb/nylabone/images/dog101/activities-fun/10-great-small-dog-breeds/maltese-portrait.jpg (Caused by SSLError(SSLCertVerificationError(1, '[SSL: CERTIFICATE_VERIFY_FAILED] certificate verify failed: unable to get local issuer certificate (_ssl.c:1007)')))\n",
            "Images downloaded successfully.\n"
          ]
        }
      ]
    },
    {
      "cell_type": "code",
      "source": [],
      "metadata": {
        "id": "6Q2Hn7n7WJbV"
      },
      "execution_count": null,
      "outputs": []
    }
  ]
}